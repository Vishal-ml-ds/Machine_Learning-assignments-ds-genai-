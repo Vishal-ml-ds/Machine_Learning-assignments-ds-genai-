{
 "cells": [
  {
   "cell_type": "markdown",
   "id": "8124bdb9",
   "metadata": {},
   "source": [
    "# Feature Engineering Assignment"
   ]
  },
  {
   "cell_type": "markdown",
   "id": "5c580edb",
   "metadata": {},
   "source": [
    "### Q1: What is a parameter?"
   ]
  },
  {
   "cell_type": "markdown",
   "id": "2f850954-cec6-47b7-9d7d-7bb5e8be520c",
   "metadata": {},
   "source": [
    "Answer:A parameter is a variable in a model or algorithm that is learned from training data. For example, in linear regression, the slope and      intercept are parameters.\n"
   ]
  },
  {
   "cell_type": "markdown",
   "id": "f9ed2048",
   "metadata": {},
   "source": [
    "### Q2: What is correlation?"
   ]
  },
  {
   "cell_type": "markdown",
   "id": "600d1ee0-cabe-4659-9f3f-2a0f2ba0fe9f",
   "metadata": {},
   "source": [
    "Answer:Correlation measures the strength and direction of a linear relationship between two variables. It ranges from -1 to 1.\n"
   ]
  },
  {
   "cell_type": "markdown",
   "id": "3de02f15",
   "metadata": {},
   "source": [
    "### Q3: What does negative correlation mean?"
   ]
  },
  {
   "cell_type": "markdown",
   "id": "58bdf770-6fe2-4db5-9853-ae158a58e05d",
   "metadata": {},
   "source": [
    "Answer:Negative correlation means that as one variable increases, the other decreases. For example, increased exercise time may reduce body weight.\n"
   ]
  },
  {
   "cell_type": "markdown",
   "id": "b826c8d8",
   "metadata": {},
   "source": [
    "### Q4: Define Machine Learning. What are the main components in Machine Learning?"
   ]
  },
  {
   "cell_type": "markdown",
   "id": "80da9b1d-a548-42da-b8fa-1053feaf2bef",
   "metadata": {},
   "source": [
    "Answer:Machine Learning is a field of AI that enables systems to learn from data. Components include data, model, training process, and evaluation metrics.\n"
   ]
  },
  {
   "cell_type": "markdown",
   "id": "bacd0262",
   "metadata": {},
   "source": [
    "### Q5: How does loss value help in determining whether the model is good or not?"
   ]
  },
  {
   "cell_type": "markdown",
   "id": "1197e30a-0281-4c5a-a5bf-213ae847547e",
   "metadata": {},
   "source": [
    "Answer:Loss value represents how well the model's predictions match the actual values. A lower loss means a better model.\n"
   ]
  },
  {
   "cell_type": "markdown",
   "id": "c2c80ecc",
   "metadata": {},
   "source": [
    "### Q6: What are continuous and categorical variables?"
   ]
  },
  {
   "cell_type": "markdown",
   "id": "2ed2411e-7a90-4f4c-b396-1234518acf82",
   "metadata": {},
   "source": [
    "Answer:Continuous variables have infinite numerical values (e.g., height), while categorical variables represent categories (e.g., gender).\n"
   ]
  },
  {
   "cell_type": "markdown",
   "id": "b8d1d20b",
   "metadata": {},
   "source": [
    "### Q7: How do we handle categorical variables in Machine Learning? What are the common techniques?"
   ]
  },
  {
   "cell_type": "markdown",
   "id": "a7de4ff1-5ead-4534-86e2-42f352f14da6",
   "metadata": {},
   "source": [
    "Answer:\n",
    "We use encoding techniques like One-Hot Encoding or Label Encoding to convert categorical variables into numerical form.\n"
   ]
  },
  {
   "cell_type": "markdown",
   "id": "515aed63",
   "metadata": {},
   "source": [
    "### Q8: What do you mean by training and testing a dataset?"
   ]
  },
  {
   "cell_type": "markdown",
   "id": "bbc029e4-f471-4c3b-b40c-c493059606fa",
   "metadata": {},
   "source": [
    "Answer:Training data is used to fit the model, while testing data is used to evaluate its performance on unseen data.\n"
   ]
  },
  {
   "cell_type": "markdown",
   "id": "f32c2756",
   "metadata": {},
   "source": [
    "### Q9: What is sklearn.preprocessing?"
   ]
  },
  {
   "cell_type": "markdown",
   "id": "70dda716-c068-4c88-975a-e4d2e15aca50",
   "metadata": {},
   "source": [
    "Answer:It's a module in scikit-learn used for preprocessing data, including scaling, encoding, and transforming.\n"
   ]
  },
  {
   "cell_type": "markdown",
   "id": "0e6a8bad",
   "metadata": {},
   "source": [
    "### Q10: What is a Test set?"
   ]
  },
  {
   "cell_type": "markdown",
   "id": "f7b55cf3-dea2-48df-8c3e-ca65d3ce4c40",
   "metadata": {},
   "source": [
    "Answer:A test set is a subset of the dataset used to assess the model's generalization on unseen data.\n"
   ]
  },
  {
   "cell_type": "markdown",
   "id": "b584d715",
   "metadata": {},
   "source": [
    "### Q11: How do we split data for model fitting (training and testing) in Python?"
   ]
  },
  {
   "cell_type": "markdown",
   "id": "64833d6e-dd69-45c9-a378-da05080c4286",
   "metadata": {},
   "source": [
    "Answer:We use `train_test_split()` from `sklearn.model_selection` to split data into training and testing sets.\n"
   ]
  },
  {
   "cell_type": "markdown",
   "id": "cea90602",
   "metadata": {},
   "source": [
    "### Q12: How do you approach a Machine Learning problem?"
   ]
  },
  {
   "cell_type": "markdown",
   "id": "8edea13d-7ba9-413d-9a34-07eb5275aa59",
   "metadata": {},
   "source": [
    "Answer:Steps: Define problem, collect data, clean/EDA, split data, choose model, train, evaluate, and improve.\n"
   ]
  },
  {
   "cell_type": "markdown",
   "id": "05cbad63",
   "metadata": {},
   "source": [
    "### Q13: Why do we have to perform EDA before fitting a model to the data?"
   ]
  },
  {
   "cell_type": "markdown",
   "id": "06aa1338-0ce1-4686-b50a-206cc9a1f5c2",
   "metadata": {},
   "source": [
    "Answer:EDA helps understand the dataset, detect patterns, handle missing values, and guide feature engineering.\n"
   ]
  },
  {
   "cell_type": "markdown",
   "id": "e1b0af2e",
   "metadata": {},
   "source": [
    "### Q14: What is correlation?"
   ]
  },
  {
   "cell_type": "markdown",
   "id": "7df3b093-eb7e-46a1-ac99-346b8316d12b",
   "metadata": {},
   "source": [
    "Answer:Correlation is a statistical measure that describes the relationship between two variables.\n"
   ]
  },
  {
   "cell_type": "markdown",
   "id": "6fb9e077",
   "metadata": {},
   "source": [
    "### Q15: What does negative correlation mean?"
   ]
  },
  {
   "cell_type": "markdown",
   "id": "b1387098-39eb-433c-b827-04877337e768",
   "metadata": {},
   "source": [
    "Answer:Negative correlation implies that as one variable increases, the other decreases.\n"
   ]
  },
  {
   "cell_type": "markdown",
   "id": "edfb9367",
   "metadata": {},
   "source": [
    "### Q16: How can you find correlation between variables in Python?"
   ]
  },
  {
   "cell_type": "markdown",
   "id": "f565be01-b694-4666-b7ff-1fd726c3eb4e",
   "metadata": {},
   "source": [
    "Answer:Using `df.corr()` method in pandas or `seaborn.heatmap()` to visualize correlations.\n"
   ]
  },
  {
   "cell_type": "markdown",
   "id": "59d6ce0c",
   "metadata": {},
   "source": [
    "### Q17: What is causation? Explain difference between correlation and causation with an example."
   ]
  },
  {
   "cell_type": "markdown",
   "id": "c6b07d84-fede-458d-9000-2746e68235eb",
   "metadata": {},
   "source": [
    "Answer:Causation indicates that one event causes another. Correlation doesn't imply causation. Example: Ice cream sales and drowning are correlated but not causal.\n"
   ]
  },
  {
   "cell_type": "markdown",
   "id": "629ae29d",
   "metadata": {},
   "source": [
    "### Q18: What is an Optimizer? What are different types of optimizers? Explain each with an example."
   ]
  },
  {
   "cell_type": "markdown",
   "id": "096ca136-dae7-453a-8747-c94de6b8ca48",
   "metadata": {},
   "source": [
    "Answer:An optimizer adjusts model weights to minimize loss. Types: SGD (basic), Adam (adaptive learning rates), RMSprop (momentum).\n"
   ]
  },
  {
   "cell_type": "markdown",
   "id": "0aa1874c",
   "metadata": {},
   "source": [
    "### Q19: What is sklearn.linear_model?"
   ]
  },
  {
   "cell_type": "markdown",
   "id": "fd1037dd-f81b-464a-a944-d46cfe608be0",
   "metadata": {},
   "source": [
    "Answer:A module in scikit-learn containing linear models like LinearRegression, LogisticRegression etc.\n"
   ]
  },
  {
   "cell_type": "markdown",
   "id": "ca37cd90",
   "metadata": {},
   "source": [
    "### Q20: What does model.fit() do? What arguments must be given?"
   ]
  },
  {
   "cell_type": "markdown",
   "id": "61d028ca-2604-4b18-ae0e-de657a2e08c3",
   "metadata": {},
   "source": [
    "Answer:`model.fit(X, y)` trains the model using features `X` and target `y`.\n"
   ]
  },
  {
   "cell_type": "markdown",
   "id": "2a6e7dad",
   "metadata": {},
   "source": [
    "### Q21: What does model.predict() do? What arguments must be given?"
   ]
  },
  {
   "cell_type": "markdown",
   "id": "a1172093-3d9e-4d92-81cc-3ff4eaedffbe",
   "metadata": {},
   "source": [
    "Answer:`model.predict(X)` uses the trained model to make predictions on new data `X`.\n"
   ]
  },
  {
   "cell_type": "markdown",
   "id": "c9c6b601",
   "metadata": {},
   "source": [
    "### Q22: What are continuous and categorical variables?"
   ]
  },
  {
   "cell_type": "markdown",
   "id": "074b5559-cc61-4b18-bddb-a6fe49824c0b",
   "metadata": {},
   "source": [
    "Answer: Continuous: measurable quantities (e.g., age). Categorical: labels or categories (e.g., color).\n"
   ]
  },
  {
   "cell_type": "markdown",
   "id": "5c7974b2",
   "metadata": {},
   "source": [
    "### Q23: What is feature scaling? How does it help in Machine Learning?"
   ]
  },
  {
   "cell_type": "markdown",
   "id": "99eab415-a83f-4298-b1cc-d7aa1c8f60c8",
   "metadata": {},
   "source": [
    "Answer: Scaling normalizes data ranges, improving algorithm performance (especially distance-based ones).\n"
   ]
  },
  {
   "cell_type": "markdown",
   "id": "bb2af388",
   "metadata": {},
   "source": [
    "### Q24: How do we perform scaling in Python?"
   ]
  },
  {
   "cell_type": "markdown",
   "id": "c95391d8-70eb-45ef-83b3-84371f3b2cb0",
   "metadata": {},
   "source": [
    "Answer:Use `StandardScaler` or `MinMaxScaler` from `sklearn.preprocessing`.\n"
   ]
  },
  {
   "cell_type": "markdown",
   "id": "decc5dbc",
   "metadata": {},
   "source": [
    "### Q25: What is sklearn.preprocessing?"
   ]
  },
  {
   "cell_type": "markdown",
   "id": "7aa1089d-8f4f-4a12-97b3-55495895e7ab",
   "metadata": {},
   "source": [
    "Answer:A module for preprocessing data including scaling, encoding, and normalization.\n"
   ]
  },
  {
   "cell_type": "markdown",
   "id": "d4bab1fc",
   "metadata": {},
   "source": [
    "### Q26: How do we split data for model fitting (training and testing) in Python?"
   ]
  },
  {
   "cell_type": "markdown",
   "id": "b3765f54-4b74-4d1d-b102-918c656fc7c0",
   "metadata": {},
   "source": [
    "Answer:Using `train_test_split(X, y, test_size=0.2)` from `sklearn.model_selection`.\n"
   ]
  },
  {
   "cell_type": "markdown",
   "id": "91f71c4c",
   "metadata": {},
   "source": [
    "### Q27: Explain data encoding?"
   ]
  },
  {
   "cell_type": "markdown",
   "id": "383392ab-8ff9-4a58-a577-835dc2f8f2ba",
   "metadata": {},
   "source": [
    "Answer:Data encoding converts categorical variables into numerical. Techniques: One-Hot Encoding, Label Encoding.\n"
   ]
  }
 ],
 "metadata": {
  "kernelspec": {
   "display_name": "Python [conda env:base] *",
   "language": "python",
   "name": "conda-base-py"
  },
  "language_info": {
   "codemirror_mode": {
    "name": "ipython",
    "version": 3
   },
   "file_extension": ".py",
   "mimetype": "text/x-python",
   "name": "python",
   "nbconvert_exporter": "python",
   "pygments_lexer": "ipython3",
   "version": "3.12.7"
  }
 },
 "nbformat": 4,
 "nbformat_minor": 5
}
