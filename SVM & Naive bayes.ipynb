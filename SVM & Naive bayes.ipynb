{
 "cells": [
  {
   "cell_type": "markdown",
   "metadata": {},
   "source": [
    "# SVM & Naive Bayes: Complete Assignment"
   ]
  },
  {
   "cell_type": "markdown",
   "metadata": {},
   "source": [
    "## Theoretical Questions"
   ]
  },
  {
   "cell_type": "markdown",
   "metadata": {},
   "source": [
    "### 1. What is a Support Vector Machine (SVM)?\n",
    "\n",
    "A **Support Vector Machine (SVM)** is a powerful supervised machine learning algorithm used for both classification and regression. The core idea is to find an optimal hyperplane that best separates data points of different classes in a high-dimensional space. \"Optimal\" means the hyperplane has the largest possible margin, or distance, between itself and the nearest data points of any class. These nearest points are called **support vectors**."
   ]
  },
  {
   "cell_type": "markdown",
   "metadata": {},
   "source": [
    "### 2. What is the difference between Hard Margin and Soft Margin SVM?\n",
    "\n",
    "The difference lies in how they handle data that is not linearly separable.\n",
    "\n",
    "- **Hard Margin SVM**: This approach is used when the data is perfectly linearly separable. It requires that all data points are classified correctly with no points lying within the margin. A hard margin SVM is very sensitive to outliers, as a single outlier can make it impossible to find such a hyperplane.\n",
    "\n",
    "- **Soft Margin SVM**: This is a more flexible approach that allows for some misclassifications. It permits some data points to be on the wrong side of the hyperplane or within the margin. This is achieved by introducing a slack variable ($$\\xi$$) and a regularization parameter (**C**). The goal is to balance two objectives: maximizing the margin and minimizing the number of classification errors. A soft margin SVM is more robust to outliers and can handle data that is not perfectly separable."
   ]
  },
  {
   "cell_type": "markdown",
   "metadata": {},
   "source": [
    "### 3. What is the mathematical intuition behind SVM?\n",
    "\n",
    "The mathematical goal of an SVM is to find the hyperplane that maximizes the margin between classes. For a linearly separable dataset, a hyperplane can be defined by the equation $$w \\cdot x + b = 0$$, where $$w$$ is the weight vector and $$b$$ is the bias.\n",
    "\n",
    "The SVM aims to solve the following optimization problem:\n",
    "1.  **Maximize the Margin**: The margin is equal to $$\\frac{2}{\\|w\\|}$$. Maximizing this is equivalent to minimizing $$\\|w\\|$$, or more conveniently, minimizing $$\\frac{1}{2}\\|w\\|^2$$.\n",
    "2.  **Subject to Constraints**: For every data point $$x_i$$ with label $$y_i \\in \\{-1, 1\\}$$, the point must be on the correct side of the margin. This is expressed as:\n",
    "    $$y_i(w \\cdot x_i + b) \\geq 1$$\n",
    "\n",
    "This formulation finds the hyperplane that is as far as possible from the closest data points, creating a robust decision boundary."
   ]
  },
  {
   "cell_type": "markdown",
   "metadata": {},
   "source": [
    "### 4. What is the role of Lagrange Multipliers in SVM?\n",
    "\n",
    "Lagrange Multipliers are a mathematical tool used to solve constrained optimization problems. In SVM, they are essential for transforming the primary optimization problem (the *primal problem*) into a more manageable form (the *dual problem*).\n",
    "\n",
    "The key benefits of this transformation are:\n",
    "1.  **Efficient Computation**: The dual problem's complexity depends on the number of support vectors, not the number of features, which is highly efficient for high-dimensional data.\n",
    "2.  **Enabling the Kernel Trick**: The dual formulation involves dot products of the input data points. This allows us to replace the dot product with a kernel function ($$K(x_i, x_j)$$), which makes the \"kernel trick\" possible."
   ]
  },
  {
   "cell_type": "markdown",
   "metadata": {
    "jp-MarkdownHeadingCollapsed": true
   },
   "source": [
    "### 5. What are Support Vectors in SVM?\n",
    "\n",
    "**Support vectors** are the data points that lie closest to the decision boundary (the hyperplane). They are the critical elements of the dataset because they are the points that \"support\" or define the hyperplane. If any of these points were moved, the position of the optimal hyperplane would change. In contrast, moving any other data point would have no effect on the hyperplane as long as it doesn't cross the margin."
   ]
  },
  {
   "cell_type": "markdown",
   "metadata": {},
   "source": [
    "### 6. What is a Support Vector Classifier (SVC)?\n",
    "\n",
    "A **Support Vector Classifier (SVC)** is the specific implementation of the Support Vector Machine algorithm for **classification** tasks. Its goal is to find a hyperplane that separates data into distinct classes. The term SVC is commonly used in libraries like scikit-learn to refer to the classification model."
   ]
  },
  {
   "cell_type": "markdown",
   "metadata": {},
   "source": [
    "### 7. What is a Support Vector Regressor (SVR)?\n",
    "\n",
    "A **Support Vector Regressor (SVR)** is the SVM implementation for **regression** tasks. Instead of finding a hyperplane that separates classes, SVR finds a hyperplane that best fits the continuous data. The goal is to fit as many data points as possible within a certain margin (defined by a parameter called *epsilon*, $$ \\epsilon $$) around the hyperplane, while limiting the margin violations."
   ]
  },
  {
   "cell_type": "markdown",
   "metadata": {},
   "source": [
    "### 8. What is the Kernel Trick in SVM?\n",
    "\n",
    "The **kernel trick** is a clever technique that allows SVMs to solve non-linear classification problems. It works by projecting the data into a higher-dimensional space where it can be separated by a linear hyperplane.\n",
    "\n",
    "Instead of performing this computationally expensive transformation explicitly, the kernel trick uses a **kernel function**. This function calculates the dot product of the vectors in the higher-dimensional space without ever actually transforming them. This makes it possible to find a non-linear decision boundary in the original feature space efficiently."
   ]
  },
  {
   "cell_type": "markdown",
   "metadata": {},
   "source": [
    "### 9. Compare Linear Kernel, Polynomial Kernel, and RBF Kernel.\n",
    "\n",
    "| Feature | Linear Kernel | Polynomial Kernel | RBF (Radial Basis Function) Kernel |\n",
    "|---|---|---|---|\n",
    "| **Decision Boundary** | Linear | Curved, polynomial shape | Complex, circular/radial shape |\n",
    "| **Use Case** | Best for linearly separable data. | Good for data with a known polynomial relationship. | Most popular general-purpose kernel; highly effective for complex, non-linear data. |\n",
    "| **Hyperparameters** | `C` | `C`, `degree`, `gamma` | `C`, `gamma` |\n",
    "| **Computational Speed**| Very fast. | Slower, depends on the degree. | Computationally intensive, but highly effective. |\n",
    "| **Formula** | $$K(x_i, x_j) = x_i^T x_j$$ | $$K(x_i, x_j) = (\\gamma x_i^T x_j + r)^d$$ | $$K(x_i, x_j) = \\exp(-\\gamma \\|x_i - x_j\\|^2)$$ |"
   ]
  },
  {
   "cell_type": "markdown",
   "metadata": {},
   "source": [
    "### 10. What is the effect of the C parameter in SVM?\n",
    "\n",
    "The **`C`** parameter (the regularization parameter) in a soft-margin SVM controls the trade-off between maximizing the margin and minimizing the classification error.\n",
    "\n",
    "- **Low `C`**: A smaller `C` value creates a wider margin. The model is more tolerant of misclassified points, leading to a simpler decision boundary. This can cause underfitting.\n",
    "- **High `C`**: A larger `C` value creates a narrower margin. The model tries to classify every training example correctly, leading to a more complex decision boundary that fits the training data very closely. This can cause overfitting."
   ]
  },
  {
   "cell_type": "markdown",
   "metadata": {},
   "source": [
    "### 11. What is the role of the Gamma parameter in RBF Kernel SVM?\n",
    "\n",
    "The **`gamma`** parameter defines how much influence a single training example has. It can be seen as the inverse of the radius of influence of samples selected by the model as support vectors.\n",
    "\n",
    "- **Low `gamma`**: A smaller `gamma` means a larger radius of influence. The decision boundary is smoother and less complex. This can lead to underfitting.\n",
    "- **High `gamma`**: A larger `gamma` means a smaller radius of influence. Each training example has a more localized effect, leading to a more complex and wiggly decision boundary that closely fits the training data. This can lead to overfitting."
   ]
  },
  {
   "cell_type": "markdown",
   "metadata": {},
   "source": [
    "### 12. What is the Naïve Bayes classifier, and why is it called \"Naïve\"?\n",
    "\n",
    "The **Naïve Bayes classifier** is a simple probabilistic classifier based on applying **Bayes' theorem**. It calculates the probability of a data point belonging to a particular class based on its features.\n",
    "\n",
    "It is called **\"naïve\"** because it makes a strong, simplifying assumption: it assumes that all the features of a data point are **conditionally independent** of each other, given the class. For example, in spam detection, it assumes the presence of the word \"money\" is independent of the presence of the word \"free,\" given that the email is spam. This assumption is often not true in the real world, but the algorithm still performs surprisingly well in many cases, especially in text classification."
   ]
  },
  {
   "cell_type": "markdown",
   "metadata": {},
   "source": [
    "### 13. What is Bayes' Theorem?\n",
    "\n",
    "Bayes' Theorem is a fundamental theorem in probability that describes the probability of an event based on prior knowledge of conditions that might be related to the event. The formula is:\n",
    "\n",
    "$$P(A|B) = \\frac{P(B|A) \\cdot P(A)}{P(B)}$$\n",
    "\n",
    "Where:\n",
    "- $$P(A|B)$$: **Posterior Probability** - The probability of hypothesis A being true, given that event B has occurred.\n",
    "- $$P(B|A)$$: **Likelihood** - The probability of event B occurring, given that hypothesis A is true.\n",
    "- $$P(A)$$: **Prior Probability** - The initial probability of hypothesis A being true.\n",
    "- $$P(B)$$: **Marginal Likelihood** - The total probability of event B occurring."
   ]
  },
  {
   "cell_type": "markdown",
   "metadata": {},
   "source": [
    "### 14. Explain the differences between Gaussian, Multinomial, and Bernoulli Naïve Bayes.\n",
    "\n",
    "- **Gaussian Naïve Bayes**: Used when the features are continuous and assumed to follow a **Gaussian (normal) distribution**. For example, features like height, weight, or temperature.\n",
    "\n",
    "- **Multinomial Naïve Bayes**: Used for discrete features, typically representing counts or frequencies. It is widely used in text classification, where the features are the counts of each word in a document (e.g., term frequency).\n",
    "\n",
    "- **Bernoulli Naïve Bayes**: Used for binary/boolean features (i.e., features that are either present or absent). It is also common in text classification, where the features are whether a word appears in a document (1 if present, 0 if absent), ignoring word counts."
   ]
  },
  {
   "cell_type": "markdown",
   "metadata": {},
   "source": [
    "### 15. When should you use Gaussian Naïve Bayes over other variants?\n",
    "\n",
    "You should use **Gaussian Naïve Bayes** when your dataset's features are **continuous numerical values** that you can reasonably assume are sampled from a Gaussian distribution. For instance, it's a good choice for datasets containing measurements like sensor readings, heights, weights, temperatures, or other real-valued data."
   ]
  },
  {
   "cell_type": "markdown",
   "metadata": {},
   "source": [
    "### 16. What are the key assumptions made by Naïve Bayes?\n",
    "\n",
    "The primary assumptions are:\n",
    "1.  **Conditional Independence of Features**: This is the \"naïve\" assumption. It states that the value of a particular feature is independent of the value of any other feature, given the class label.\n",
    "2.  **Feature Distribution**: Different variants assume different data distributions. Gaussian NB assumes a normal distribution, Multinomial NB assumes multinomial distribution (for counts), and Bernoulli NB assumes a binomial distribution (for binary features)."
   ]
  },
  {
   "cell_type": "markdown",
   "metadata": {},
   "source": [
    "### 17. What are the advantages and disadvantages of Naïve Bayes?\n",
    "\n",
    "**Advantages:**\n",
    "- **Fast and Efficient**: It is computationally very fast and requires a small amount of training data.\n",
    "- **Scalable**: It scales well with the number of features and data points.\n",
    "- **Good for High-Dimensional Data**: It performs well in cases with many features, such as text classification.\n",
    "- **Simple to Implement**: The underlying logic is straightforward.\n",
    "\n",
    "**Disadvantages:**\n",
    "- **\"Naïve\" Assumption**: The assumption of feature independence is often violated in real-world data, which can lead to suboptimal performance.\n",
    "- **Zero-Frequency Problem**: If a categorical feature in the test set was not observed in the training set, the model will assign it a zero probability, making the entire posterior probability zero. This is solved by using smoothing techniques like Laplace smoothing.\n",
    "- **Poor Probability Estimates**: While a good classifier, it often provides poor probability estimates."
   ]
  },
  {
   "cell_type": "markdown",
   "metadata": {},
   "source": [
    "### 18. Why is Naïve Bayes a good choice for text classification?\n",
    "\n",
    "Naïve Bayes is an excellent choice for text classification for several reasons:\n",
    "\n",
    "1.  **Handles High Dimensions**: Text data is very high-dimensional (each unique word is a feature). Naïve Bayes handles this efficiently.\n",
    "2.  **Efficiency**: It's very fast to train, which is crucial for large text corpora.\n",
    "3.  **Independence Assumption Works Well Enough**: Although the independence assumption is not strictly true for language, it often works as a reasonable approximation. The presence of a set of words can still provide strong evidence for a class (e.g., \"free,\" \"money,\" \"winner\" for spam), even if they are not truly independent.\n",
    "4.  **Requires Less Data**: It can perform well even with relatively small training datasets."
   ]
  },
  {
   "cell_type": "markdown",
   "metadata": {},
   "source": [
    "### 19. Compare SVM and Naïve Bayes for classification tasks.\n",
    "\n",
    "| Feature | Support Vector Machine (SVM) | Naïve Bayes |\n",
    "|---|---|---|\n",
    "| **Underlying Principle** | Finds an optimal separating hyperplane (geometric). | Based on probability and Bayes' theorem. |\n",
    "| **Performance** | Generally high, especially in complex, non-linear spaces with clear margins. | Can be surprisingly effective, especially for text. Can be less accurate if the independence assumption is strongly violated. |\n",
    "| **Speed** | Can be slow to train, especially with large datasets. | Very fast to train. |\n",
    "| **Data Size** | Works well on smaller, cleaner datasets. Can be memory intensive. | Works well with both small and very large datasets. |\n",
    "| **Feature Space** | Excellent in high-dimensional spaces. | Excellent in high-dimensional spaces (e.g., text). |\n",
    "| **Key Strengths** | Effective with non-linear data (using kernels), robust to overfitting (with tuning). | Simplicity, speed, and good performance on text data. |"
   ]
  },
  {
   "cell_type": "markdown",
   "metadata": {},
   "source": [
    "### 20. How does Laplace Smoothing help in Naïve Bayes?\n",
    "\n",
    "**Laplace (or Additive) Smoothing** is a technique used to solve the **zero-frequency problem** in Naïve Bayes. The problem occurs when a feature in the test data has a value that was not seen in the training data for a particular class. This would result in a conditional probability of zero, which would then wipe out the entire posterior probability for that class.\n",
    "\n",
    "Laplace smoothing works by adding a small value, **alpha (α)**, to every count. The formula for probability becomes:\n",
    "\n",
    "$$P(w_i | c) = \\frac{\\text{count}(w_i, c) + \\alpha}{\\text{count}(c) + \\alpha \\cdot |V|}$$\n",
    "\n",
    "Where:\n",
    "- $$ \\text{count}(w_i, c) $$ is the number of times feature $$w_i$$ appears in class $$c$$.\n",
    "- $$ \\text{count}(c) $$ is the total count of all features in class $$c$$.\n",
    "- $$ \\alpha $$ is the smoothing parameter (if $$ \\alpha=1 $$, it's Laplace smoothing).\n",
    "- $$|V|$$ is the number of unique features in the vocabulary.\n",
    "\n",
    "This ensures that no probability is ever exactly zero, making the model more robust."
   ]
  },
  {
   "cell_type": "markdown",
   "metadata": {},
   "source": [
    "## Practical Questions"
   ]
  },
  {
   "cell_type": "markdown",
   "metadata": {},
   "source": [
    "### 21. Write a Python program to train an SVM Classifier on the Iris dataset and evaluate accuracy."
   ]
  },
  {
   "cell_type": "code",
   "execution_count": 19,
   "metadata": {},
   "outputs": [
    {
     "name": "stdout",
     "output_type": "stream",
     "text": [
      "SVM Classifier Accuracy on Iris dataset: 1.0000\n"
     ]
    }
   ],
   "source": [
    "from sklearn.datasets import load_iris\n",
    "from sklearn.model_selection import train_test_split\n",
    "from sklearn.svm import SVC\n",
    "from sklearn.metrics import accuracy_score\n",
    "\n",
    "# Load the Iris dataset\n",
    "iris = load_iris()\n",
    "X, y = iris.data, iris.target\n",
    "\n",
    "# Split the data into training and testing sets\n",
    "X_train, X_test, y_train, y_test = train_test_split(X, y, test_size=0.3, random_state=42)\n",
    "\n",
    "# Initialize the SVM Classifier\n",
    "svm_classifier = SVC(kernel='linear')\n",
    "\n",
    "# Train the model\n",
    "svm_classifier.fit(X_train, y_train)\n",
    "\n",
    "# Make predictions on the test set\n",
    "y_pred = svm_classifier.predict(X_test)\n",
    "\n",
    "# Evaluate the accuracy\n",
    "accuracy = accuracy_score(y_test, y_pred)\n",
    "print(f\"SVM Classifier Accuracy on Iris dataset: {accuracy:.4f}\")"
   ]
  },
  {
   "cell_type": "markdown",
   "metadata": {},
   "source": [
    "### 22. Write a Python program to train two SVM classifiers with Linear and RBF kernels on the Wine dataset, then compare their accuracies."
   ]
  },
  {
   "cell_type": "code",
   "execution_count": 22,
   "metadata": {},
   "outputs": [
    {
     "name": "stdout",
     "output_type": "stream",
     "text": [
      "Accuracy with Linear Kernel: 0.9815\n",
      "Accuracy with RBF Kernel: 0.9815\n"
     ]
    }
   ],
   "source": [
    "from sklearn.datasets import load_wine\n",
    "from sklearn.model_selection import train_test_split\n",
    "from sklearn.svm import SVC\n",
    "from sklearn.metrics import accuracy_score\n",
    "from sklearn.preprocessing import StandardScaler\n",
    "\n",
    "# Load the Wine dataset\n",
    "wine = load_wine()\n",
    "X, y = wine.data, wine.target\n",
    "\n",
    "# Scale data for better RBF performance\n",
    "scaler = StandardScaler()\n",
    "X_scaled = scaler.fit_transform(X)\n",
    "\n",
    "X_train, X_test, y_train, y_test = train_test_split(X_scaled, y, test_size=0.3, random_state=42)\n",
    "\n",
    "# Classifier 1: Linear Kernel\n",
    "linear_svm = SVC(kernel='linear')\n",
    "linear_svm.fit(X_train, y_train)\n",
    "y_pred_linear = linear_svm.predict(X_test)\n",
    "accuracy_linear = accuracy_score(y_test, y_pred_linear)\n",
    "print(f\"Accuracy with Linear Kernel: {accuracy_linear:.4f}\")\n",
    "\n",
    "# Classifier 2: RBF Kernel\n",
    "rbf_svm = SVC(kernel='rbf')\n",
    "rbf_svm.fit(X_train, y_train)\n",
    "y_pred_rbf = rbf_svm.predict(X_test)\n",
    "accuracy_rbf = accuracy_score(y_test, y_pred_rbf)\n",
    "print(f\"Accuracy with RBF Kernel: {accuracy_rbf:.4f}\")"
   ]
  },
  {
   "cell_type": "markdown",
   "metadata": {},
   "source": [
    "### 23. Write a Python program to train an SVM Regressor (SVR) on a housing dataset and evaluate it using Mean Squared Error (MSE)."
   ]
  },
  {
   "cell_type": "code",
   "execution_count": 25,
   "metadata": {},
   "outputs": [
    {
     "name": "stdout",
     "output_type": "stream",
     "text": [
      "SVR Mean Squared Error on Housing dataset: 0.3471\n"
     ]
    }
   ],
   "source": [
    "from sklearn.datasets import fetch_california_housing\n",
    "from sklearn.model_selection import train_test_split\n",
    "from sklearn.svm import SVR\n",
    "from sklearn.metrics import mean_squared_error\n",
    "from sklearn.preprocessing import StandardScaler\n",
    "\n",
    "# Load the California Housing dataset\n",
    "housing = fetch_california_housing()\n",
    "X, y = housing.data, housing.target\n",
    "\n",
    "# It's crucial to scale data for SVR\n",
    "scaler = StandardScaler()\n",
    "X_scaled = scaler.fit_transform(X)\n",
    "\n",
    "X_train, X_test, y_train, y_test = train_test_split(X_scaled, y, test_size=0.3, random_state=42)\n",
    "\n",
    "# Initialize and train the SVR model\n",
    "svr = SVR(kernel='rbf')\n",
    "svr.fit(X_train, y_train)\n",
    "\n",
    "y_pred = svr.predict(X_test)\n",
    "\n",
    "mse = mean_squared_error(y_test, y_pred)\n",
    "print(f\"SVR Mean Squared Error on Housing dataset: {mse:.4f}\")"
   ]
  },
  {
   "cell_type": "markdown",
   "metadata": {},
   "source": [
    "### 24. Write a Python program to train an SVM Classifier with a Polynomial Kernel and visualize the decision boundary."
   ]
  },
  {
   "cell_type": "code",
   "execution_count": 27,
   "metadata": {},
   "outputs": [
    {
     "data": {
      "image/png": "[encoded data removed]",
      "text/plain": [
       "<Figure size 640x480 with 1 Axes>"
      ]
     },
     "metadata": {},
     "output_type": "display_data"
    }
   ],
   "source": [
    "import numpy as np\n",
    "import matplotlib.pyplot as plt\n",
    "from sklearn.datasets import make_classification\n",
    "from sklearn.svm import SVC\n",
    "\n",
    "X, y = make_classification(n_samples=100, n_features=2, n_informative=2, n_redundant=0, \n",
    "                           n_clusters_per_class=1, random_state=42)\n",
    "\n",
    "poly_svm = SVC(kernel='poly', degree=3, gamma='auto')\n",
    "poly_svm.fit(X, y)\n",
    "\n",
    "def plot_decision_boundary(model, X, y, title):\n",
    "    x_min, x_max = X[:, 0].min() - 1, X[:, 0].max() + 1\n",
    "    y_min, y_max = X[:, 1].min() - 1, X[:, 1].max() + 1\n",
    "    xx, yy = np.meshgrid(np.arange(x_min, x_max, 0.02),\n",
    "                           np.arange(y_min, y_max, 0.02))\n",
    "    Z = model.predict(np.c_[xx.ravel(), yy.ravel()])\n",
    "    Z = Z.reshape(xx.shape)\n",
    "    plt.contourf(xx, yy, Z, alpha=0.3, cmap=plt.cm.coolwarm)\n",
    "    plt.scatter(X[:, 0], X[:, 1], c=y, cmap=plt.cm.coolwarm, s=20, edgecolors='k')\n",
    "    plt.title(title)\n",
    "    plt.xlabel('Feature 1')\n",
    "    plt.ylabel('Feature 2')\n",
    "    plt.show()\n",
    "\n",
    "plot_decision_boundary(poly_svm, X, y, 'SVM Decision Boundary with Polynomial Kernel')"
   ]
  },
  {
   "cell_type": "markdown",
   "metadata": {},
   "source": [
    "### 25. Write a Python program to train a Gaussian Naïve Bayes classifier on the Breast Cancer dataset and evaluate accuracy."
   ]
  },
  {
   "cell_type": "code",
   "execution_count": 89,
   "metadata": {},
   "outputs": [
    {
     "name": "stdout",
     "output_type": "stream",
     "text": [
      "Gaussian Naïve Bayes Accuracy on Breast Cancer dataset: 0.9415\n"
     ]
    }
   ],
   "source": [
    "from sklearn.datasets import load_breast_cancer\n",
    "from sklearn.model_selection import train_test_split\n",
    "from sklearn.naive_bayes import GaussianNB\n",
    "from sklearn.metrics import accuracy_score\n",
    "\n",
    "cancer = load_breast_cancer()\n",
    "X, y = cancer.data, cancer.target\n",
    "\n",
    "X_train, X_test, y_train, y_test = train_test_split(X, y, test_size=0.3, random_state=42)\n",
    "\n",
    "gnb = GaussianNB()\n",
    "gnb.fit(X_train, y_train)\n",
    "\n",
    "y_pred = gnb.predict(X_test)\n",
    "\n",
    "accuracy = accuracy_score(y_test, y_pred)\n",
    "print(f\"Gaussian Naïve Bayes Accuracy on Breast Cancer dataset: {accuracy:.4f}\")"
   ]
  },
  {
   "cell_type": "markdown",
   "metadata": {},
   "source": [
    "### 26. Write a Python program to train a Multinomial Naïve Bayes classifier for text classification using the 20 Newsgroups dataset."
   ]
  },
  {
   "cell_type": "code",
   "execution_count": 87,
   "metadata": {},
   "outputs": [
    {
     "name": "stdout",
     "output_type": "stream",
     "text": [
      "Multinomial Naïve Bayes Accuracy on 20 Newsgroups: 0.9523\n"
     ]
    }
   ],
   "source": [
    "from sklearn.datasets import fetch_20newsgroups\n",
    "from sklearn.feature_extraction.text import TfidfVectorizer\n",
    "from sklearn.naive_bayes import MultinomialNB\n",
    "from sklearn.pipeline import make_pipeline\n",
    "from sklearn.metrics import accuracy_score\n",
    "\n",
    "categories = ['sci.med', 'sci.space', 'rec.autos', 'talk.politics.guns']\n",
    "train = fetch_20newsgroups(subset='train', categories=categories, shuffle=True, random_state=42)\n",
    "test = fetch_20newsgroups(subset='test', categories=categories, shuffle=True, random_state=42)\n",
    "\n",
    "model = make_pipeline(TfidfVectorizer(), MultinomialNB())\n",
    "\n",
    "model.fit(train.data, train.target)\n",
    "\n",
    "y_pred = model.predict(test.data)\n",
    "\n",
    "accuracy = accuracy_score(test.target, y_pred)\n",
    "print(f\"Multinomial Naïve Bayes Accuracy on 20 Newsgroups: {accuracy:.4f}\")"
   ]
  },
  {
   "cell_type": "markdown",
   "metadata": {},
   "source": [
    "### 27. Write a Python program to train an SVM Classifier with different C values and compare the decision boundaries visually."
   ]
  },
  {
   "cell_type": "code",
   "execution_count": 83,
   "metadata": {},
   "outputs": [
    {
     "data": {
      "image/png": "[encoded data removed]",
      "text/plain": [
       "<Figure size 1200x500 with 2 Axes>"
      ]
     },
     "metadata": {},
     "output_type": "display_data"
    }
   ],
   "source": [
    "import numpy as np\n",
    "import matplotlib.pyplot as plt\n",
    "from sklearn.datasets import make_classification\n",
    "from sklearn.svm import SVC\n",
    "\n",
    "# Generate synthetic data\n",
    "X, y = make_classification(n_samples=50, n_features=2, n_informative=2, n_redundant=0,\n",
    "                           n_clusters_per_class=1, flip_y=0.2, random_state=42)\n",
    "\n",
    "# Models with different C values\n",
    "low_c_svm = SVC(kernel='linear', C=0.1).fit(X, y)\n",
    "high_c_svm = SVC(kernel='linear', C=1000).fit(X, y)\n",
    "\n",
    "# Plotting function\n",
    "def plot_c_comparison(X, y, low_c_model, high_c_model):\n",
    "    fig, (ax1, ax2) = plt.subplots(1, 2, figsize=(12, 5))\n",
    "    \n",
    "    # Common settings\n",
    "    x_min, x_max = X[:, 0].min() - 1, X[:, 0].max() + 1\n",
    "    y_min, y_max = X[:, 1].min() - 1, X[:, 1].max() + 1\n",
    "    xx, yy = np.meshgrid(np.arange(x_min, x_max, 0.02), np.arange(y_min, y_max, 0.02))\n",
    "    \n",
    "    # Plot for Low C\n",
    "    Z1 = low_c_model.predict(np.c_[xx.ravel(), yy.ravel()])\n",
    "    Z1 = Z1.reshape(xx.shape)\n",
    "    ax1.contourf(xx, yy, Z1, alpha=0.3, cmap=plt.cm.coolwarm)\n",
    "    ax1.scatter(X[:, 0], X[:, 1], c=y, cmap=plt.cm.coolwarm, s=30, edgecolors='k')\n",
    "    ax1.set_title('Low C (0.1) - Wider Margin')\n",
    "    \n",
    "    # Plot for High C\n",
    "    Z2 = high_c_model.predict(np.c_[xx.ravel(), yy.ravel()])\n",
    "    Z2 = Z2.reshape(xx.shape)\n",
    "    ax2.contourf(xx, yy, Z2, alpha=0.3, cmap=plt.cm.coolwarm)\n",
    "    ax2.scatter(X[:, 0], X[:, 1], c=y, cmap=plt.cm.coolwarm, s=30, edgecolors='k')\n",
    "    ax2.set_title('High C (1000) - Narrower Margin')\n",
    "    \n",
    "    plt.show()\n",
    "\n",
    "plot_c_comparison(X, y, low_c_svm, high_c_svm)"
   ]
  },
  {
   "cell_type": "markdown",
   "metadata": {},
   "source": [
    "### 28. Write a Python program to train a Bernoulli Naïve Bayes classifier for binary classification on a dataset with binary features."
   ]
  },
  {
   "cell_type": "code",
   "execution_count": 81,
   "metadata": {},
   "outputs": [
    {
     "name": "stdout",
     "output_type": "stream",
     "text": [
      "Bernoulli Naive Bayes Accuracy: 0.5000\n"
     ]
    }
   ],
   "source": [
    "import numpy as np\n",
    "from sklearn.naive_bayes import BernoulliNB\n",
    "from sklearn.metrics import accuracy_score\n",
    "\n",
    "# Create a synthetic dataset with binary features (0s and 1s)\n",
    "# 100 samples, 5 features\n",
    "X_train = np.random.randint(2, size=(100, 5))\n",
    "y_train = np.random.randint(2, size=(100,))\n",
    "\n",
    "X_test = np.random.randint(2, size=(20, 5))\n",
    "y_test = np.random.randint(2, size=(20,))\n",
    "\n",
    "# Initialize and train the Bernoulli Naive Bayes model\n",
    "bnb = BernoulliNB()\n",
    "bnb.fit(X_train, y_train)\n",
    "\n",
    "# Make predictions\n",
    "y_pred = bnb.predict(X_test)\n",
    "\n",
    "# Evaluate accuracy\n",
    "accuracy = accuracy_score(y_test, y_pred)\n",
    "print(f\"Bernoulli Naive Bayes Accuracy: {accuracy:.4f}\")"
   ]
  },
  {
   "cell_type": "markdown",
   "metadata": {},
   "source": [
    "### 29. Write a Python program to apply feature scaling before training an SVM model and compare results with unscaled data."
   ]
  },
  {
   "cell_type": "code",
   "execution_count": 79,
   "metadata": {},
   "outputs": [
    {
     "name": "stdout",
     "output_type": "stream",
     "text": [
      "Accuracy on Unscaled Data: 0.9357\n",
      "Accuracy on Scaled Data:   0.9766\n"
     ]
    }
   ],
   "source": [
    "from sklearn.datasets import load_breast_cancer\n",
    "from sklearn.model_selection import train_test_split\n",
    "from sklearn.preprocessing import StandardScaler\n",
    "from sklearn.svm import SVC\n",
    "from sklearn.metrics import accuracy_score\n",
    "\n",
    "cancer = load_breast_cancer()\n",
    "X, y = cancer.data, cancer.target\n",
    "\n",
    "X_train, X_test, y_train, y_test = train_test_split(X, y, test_size=0.3, random_state=42)\n",
    "\n",
    "# 1. Train SVM on unscaled data\n",
    "svm_unscaled = SVC(kernel='rbf', random_state=42)\n",
    "svm_unscaled.fit(X_train, y_train)\n",
    "y_pred_unscaled = svm_unscaled.predict(X_test)\n",
    "acc_unscaled = accuracy_score(y_test, y_pred_unscaled)\n",
    "print(f\"Accuracy on Unscaled Data: {acc_unscaled:.4f}\")\n",
    "\n",
    "# 2. Scale the data and train SVM\n",
    "scaler = StandardScaler()\n",
    "X_train_scaled = scaler.fit_transform(X_train)\n",
    "X_test_scaled = scaler.transform(X_test)\n",
    "\n",
    "svm_scaled = SVC(kernel='rbf', random_state=42)\n",
    "svm_scaled.fit(X_train_scaled, y_train)\n",
    "y_pred_scaled = svm_scaled.predict(X_test_scaled)\n",
    "acc_scaled = accuracy_score(y_test, y_pred_scaled)\n",
    "print(f\"Accuracy on Scaled Data:   {acc_scaled:.4f}\")"
   ]
  },
  {
   "cell_type": "markdown",
   "metadata": {},
   "source": [
    "### 30. Write a Python program to train a Gaussian Naïve Bayes model and compare the predictions before and after Laplace Smoothing.\n",
    "\n",
    "**Note:** Laplace smoothing (controlled by the `alpha` parameter) is designed for discrete data used in Multinomial and Bernoulli Naïve Bayes. For Gaussian Naïve Bayes, which deals with continuous data, there is no direct equivalent. However, there is a parameter `var_smoothing` which is a stability-adding value added to the variances. It helps prevent numerical issues when a feature's variance is close to zero. We will demonstrate the effect of this parameter."
   ]
  },
  {
   "cell_type": "code",
   "execution_count": 77,
   "metadata": {},
   "outputs": [
    {
     "name": "stdout",
     "output_type": "stream",
     "text": [
      "Accuracy with default var_smoothing: 0.9778\n",
      "Accuracy with larger var_smoothing (1e-2): 1.0000\n"
     ]
    }
   ],
   "source": [
    "from sklearn.datasets import load_iris\n",
    "from sklearn.model_selection import train_test_split\n",
    "from sklearn.naive_bayes import GaussianNB\n",
    "from sklearn.metrics import accuracy_score\n",
    "\n",
    "iris = load_iris()\n",
    "X, y = iris.data, iris.target\n",
    "X_train, X_test, y_train, y_test = train_test_split(X, y, test_size=0.3, random_state=42)\n",
    "\n",
    "# 1. Default GNB (very small default var_smoothing)\n",
    "gnb_default = GaussianNB()\n",
    "gnb_default.fit(X_train, y_train)\n",
    "y_pred_default = gnb_default.predict(X_test)\n",
    "acc_default = accuracy_score(y_test, y_pred_default)\n",
    "print(f\"Accuracy with default var_smoothing: {acc_default:.4f}\")\n",
    "\n",
    "# 2. GNB with larger var_smoothing\n",
    "gnb_smoothed = GaussianNB(var_smoothing=1e-2) # Add some smoothing\n",
    "gnb_smoothed.fit(X_train, y_train)\n",
    "# The line below has been corrected\n",
    "y_pred_smoothed = gnb_smoothed.predict(X_test)\n",
    "acc_smoothed = accuracy_score(y_test, y_pred_smoothed)\n",
    "print(f\"Accuracy with larger var_smoothing (1e-2): {acc_smoothed:.4f}\")"
   ]
  },
  {
   "cell_type": "markdown",
   "metadata": {},
   "source": [
    "### 31. Write a Python program to train an SVM Classifier and use GridSearchCV to tune the hyperparameters (C, gamma, kernel)."
   ]
  },
  {
   "cell_type": "code",
   "execution_count": 73,
   "metadata": {},
   "outputs": [
    {
     "name": "stdout",
     "output_type": "stream",
     "text": [
      "Best Parameters found by GridSearchCV:\n",
      "{'C': 10, 'gamma': 1, 'kernel': 'linear'}\n",
      "\n",
      "Accuracy of the best SVM model on the test set: 0.9778\n"
     ]
    }
   ],
   "source": [
    "from sklearn.datasets import load_iris\n",
    "from sklearn.model_selection import train_test_split, GridSearchCV\n",
    "from sklearn.svm import SVC\n",
    "from sklearn.preprocessing import StandardScaler\n",
    "\n",
    "iris = load_iris()\n",
    "X, y = iris.data, iris.target\n",
    "scaler = StandardScaler()\n",
    "X_scaled = scaler.fit_transform(X)\n",
    "X_train, X_test, y_train, y_test = train_test_split(X_scaled, y, test_size=0.3, random_state=42)\n",
    "\n",
    "param_grid = {\n",
    "    'C': [0.1, 1, 10, 100],\n",
    "    'gamma': [1, 0.1, 0.01, 0.001],\n",
    "    'kernel': ['rbf', 'poly', 'linear']\n",
    "}\n",
    "\n",
    "grid_search = GridSearchCV(SVC(), param_grid, refit=True, verbose=0, cv=5)\n",
    "grid_search.fit(X_train, y_train)\n",
    "\n",
    "print(\"Best Parameters found by GridSearchCV:\")\n",
    "print(grid_search.best_params_)\n",
    "\n",
    "best_svm = grid_search.best_estimator_\n",
    "accuracy = best_svm.score(X_test, y_test)\n",
    "print(f\"\\nAccuracy of the best SVM model on the test set: {accuracy:.4f}\")"
   ]
  },
  {
   "cell_type": "markdown",
   "metadata": {},
   "source": [
    "### 32. Write a Python program to train an SVM Classifier on an imbalanced dataset and apply class weighting and check it improve accuracy."
   ]
  },
  {
   "cell_type": "code",
   "execution_count": 71,
   "metadata": {},
   "outputs": [
    {
     "name": "stdout",
     "output_type": "stream",
     "text": [
      "--- Standard SVM --- \n",
      "\n",
      "              precision    recall  f1-score   support\n",
      "\n",
      "           0       0.99      1.00      0.99       285\n",
      "           1       1.00      0.73      0.85        15\n",
      "\n",
      "    accuracy                           0.99       300\n",
      "   macro avg       0.99      0.87      0.92       300\n",
      "weighted avg       0.99      0.99      0.99       300\n",
      "\n",
      "--- SVM with Class Weighting --- \n",
      "\n",
      "              precision    recall  f1-score   support\n",
      "\n",
      "           0       0.99      0.98      0.99       285\n",
      "           1       0.72      0.87      0.79        15\n",
      "\n",
      "    accuracy                           0.98       300\n",
      "   macro avg       0.86      0.92      0.89       300\n",
      "weighted avg       0.98      0.98      0.98       300\n",
      "\n"
     ]
    }
   ],
   "source": [
    "from sklearn.datasets import make_classification\n",
    "from sklearn.model_selection import train_test_split\n",
    "from sklearn.svm import SVC\n",
    "from sklearn.metrics import classification_report\n",
    "\n",
    "# Create an imbalanced dataset (95% class 0, 5% class 1)\n",
    "X, y = make_classification(n_samples=1000, n_features=20, n_informative=2, n_redundant=10,\n",
    "                           n_classes=2, n_clusters_per_class=1, weights=[0.95, 0.05], flip_y=0, random_state=42)\n",
    "\n",
    "X_train, X_test, y_train, y_test = train_test_split(X, y, test_size=0.3, random_state=42, stratify=y)\n",
    "\n",
    "# 1. Standard SVM\n",
    "svm_standard = SVC(kernel='linear', random_state=42)\n",
    "svm_standard.fit(X_train, y_train)\n",
    "y_pred_standard = svm_standard.predict(X_test)\n",
    "print(\"--- Standard SVM --- \\n\")\n",
    "print(classification_report(y_test, y_pred_standard))\n",
    "\n",
    "# 2. SVM with Class Weighting\n",
    "svm_weighted = SVC(kernel='linear', class_weight='balanced', random_state=42)\n",
    "svm_weighted.fit(X_train, y_train)\n",
    "y_pred_weighted = svm_weighted.predict(X_test)\n",
    "print(\"--- SVM with Class Weighting --- \\n\")\n",
    "print(classification_report(y_test, y_pred_weighted))"
   ]
  },
  {
   "cell_type": "markdown",
   "metadata": {},
   "source": [
    "### 33. Write a Python program to implement a Naïve Bayes classifier for spam detection using email data."
   ]
  },
  {
   "cell_type": "code",
   "execution_count": 95,
   "metadata": {},
   "outputs": [
    {
     "name": "stdout",
     "output_type": "stream",
     "text": [
      "Accuracy with default var_smoothing: 0.9778\n",
      "Accuracy with larger var_smoothing (1e-2): 1.0000\n"
     ]
    }
   ],
   "source": [
    "from sklearn.datasets import load_iris\n",
    "from sklearn.model_selection import train_test_split\n",
    "from sklearn.naive_bayes import GaussianNB\n",
    "from sklearn.metrics import accuracy_score\n",
    "\n",
    "iris = load_iris()\n",
    "X, y = iris.data, iris.target\n",
    "X_train, X_test, y_train, y_test = train_test_split(X, y, test_size=0.3, random_state=42)\n",
    "\n",
    "# 1. Default GNB (very small default var_smoothing)\n",
    "gnb_default = GaussianNB()\n",
    "gnb_default.fit(X_train, y_train)\n",
    "y_pred_default = gnb_default.predict(X_test)\n",
    "acc_default = accuracy_score(y_test, y_pred_default)\n",
    "print(f\"Accuracy with default var_smoothing: {acc_default:.4f}\")\n",
    "\n",
    "# 2. GNB with larger var_smoothing\n",
    "gnb_smoothed = GaussianNB(var_smoothing=1e-2) # Add some smoothing\n",
    "gnb_smoothed.fit(X_train, y_train)\n",
    "# The line below has been corrected\n",
    "y_pred_smoothed = gnb_smoothed.predict(X_test)\n",
    "acc_smoothed = accuracy_score(y_test, y_pred_smoothed)\n",
    "print(f\"Accuracy with larger var_smoothing (1e-2): {acc_smoothed:.4f}\")"
   ]
  },
  {
   "cell_type": "markdown",
   "metadata": {},
   "source": [
    "### 34. Write a Python program to train an SVM Classifier and a Naïve Bayes Classifier on the same dataset and compare their accuracy."
   ]
  },
  {
   "cell_type": "code",
   "execution_count": 67,
   "metadata": {},
   "outputs": [
    {
     "name": "stdout",
     "output_type": "stream",
     "text": [
      "SVM Accuracy: 0.9708\n",
      "Gaussian Naive Bayes Accuracy: 0.9357\n"
     ]
    }
   ],
   "source": [
    "from sklearn.datasets import load_breast_cancer\n",
    "from sklearn.model_selection import train_test_split\n",
    "from sklearn.preprocessing import StandardScaler\n",
    "from sklearn.svm import SVC\n",
    "from sklearn.naive_bayes import GaussianNB\n",
    "from sklearn.metrics import accuracy_score\n",
    "\n",
    "cancer = load_breast_cancer()\n",
    "X, y = cancer.data, cancer.target\n",
    "\n",
    "scaler = StandardScaler()\n",
    "X_scaled = scaler.fit_transform(X)\n",
    "\n",
    "X_train, X_test, y_train, y_test = train_test_split(X_scaled, y, test_size=0.3, random_state=42)\n",
    "\n",
    "# Train SVM\n",
    "svm = SVC(random_state=42)\n",
    "svm.fit(X_train, y_train)\n",
    "svm_acc = accuracy_score(y_test, svm.predict(X_test))\n",
    "print(f\"SVM Accuracy: {svm_acc:.4f}\")\n",
    "\n",
    "# Train Naive Bayes\n",
    "gnb = GaussianNB()\n",
    "gnb.fit(X_train, y_train)\n",
    "gnb_acc = accuracy_score(y_test, gnb.predict(X_test))\n",
    "print(f\"Gaussian Naive Bayes Accuracy: {gnb_acc:.4f}\")"
   ]
  },
  {
   "cell_type": "markdown",
   "metadata": {},
   "source": [
    "### 35. Write a Python program to perform feature selection before training a Naïve Bayes classifier and compare results."
   ]
  },
  {
   "cell_type": "code",
   "execution_count": 65,
   "metadata": {},
   "outputs": [
    {
     "name": "stdout",
     "output_type": "stream",
     "text": [
      "Accuracy with all 30 features: 0.9415\n",
      "Accuracy with selected 10 features: 0.9591\n"
     ]
    }
   ],
   "source": [
    "from sklearn.datasets import load_breast_cancer\n",
    "from sklearn.model_selection import train_test_split\n",
    "from sklearn.feature_selection import SelectKBest, f_classif\n",
    "from sklearn.naive_bayes import GaussianNB\n",
    "from sklearn.metrics import accuracy_score\n",
    "\n",
    "cancer = load_breast_cancer()\n",
    "X, y = cancer.data, cancer.target\n",
    "X_train, X_test, y_train, y_test = train_test_split(X, y, test_size=0.3, random_state=42)\n",
    "\n",
    "# 1. NB with all features\n",
    "gnb_all = GaussianNB().fit(X_train, y_train)\n",
    "acc_all = accuracy_score(y_test, gnb_all.predict(X_test))\n",
    "print(f\"Accuracy with all {X.shape[1]} features: {acc_all:.4f}\")\n",
    "\n",
    "# 2. Select top 10 features\n",
    "selector = SelectKBest(f_classif, k=10)\n",
    "X_train_selected = selector.fit_transform(X_train, y_train)\n",
    "X_test_selected = selector.transform(X_test)\n",
    "\n",
    "# 3. NB with selected features\n",
    "gnb_selected = GaussianNB().fit(X_train_selected, y_train)\n",
    "acc_selected = accuracy_score(y_test, gnb_selected.predict(X_test_selected))\n",
    "print(f\"Accuracy with selected 10 features: {acc_selected:.4f}\")"
   ]
  },
  {
   "cell_type": "markdown",
   "metadata": {},
   "source": [
    "### 36. Write a Python program to train an SVM Classifier using One-vs-Rest (OvR) and One-vs-One (OvO) strategies on the Wine dataset and compare their accuracy."
   ]
  },
  {
   "cell_type": "code",
   "execution_count": 63,
   "metadata": {},
   "outputs": [
    {
     "name": "stdout",
     "output_type": "stream",
     "text": [
      "Accuracy with One-vs-Rest (OvR): 0.7593\n",
      "Accuracy with One-vs-One (OvO): 0.7593\n"
     ]
    }
   ],
   "source": [
    "from sklearn.datasets import load_wine\n",
    "from sklearn.model_selection import train_test_split\n",
    "from sklearn.svm import SVC\n",
    "from sklearn.metrics import accuracy_score\n",
    "\n",
    "wine = load_wine()\n",
    "X, y = wine.data, wine.target\n",
    "X_train, X_test, y_train, y_test = train_test_split(X, y, test_size=0.3, random_state=42)\n",
    "\n",
    "# 1. One-vs-Rest (OvR)\n",
    "svm_ovr = SVC(decision_function_shape='ovr', random_state=42)\n",
    "svm_ovr.fit(X_train, y_train)\n",
    "acc_ovr = accuracy_score(y_test, svm_ovr.predict(X_test))\n",
    "print(f\"Accuracy with One-vs-Rest (OvR): {acc_ovr:.4f}\")\n",
    "\n",
    "# 2. One-vs-One (OvO)\n",
    "svm_ovo = SVC(decision_function_shape='ovo', random_state=42)\n",
    "svm_ovo.fit(X_train, y_train)\n",
    "acc_ovo = accuracy_score(y_test, svm_ovo.predict(X_test))\n",
    "print(f\"Accuracy with One-vs-One (OvO): {acc_ovo:.4f}\")"
   ]
  },
  {
   "cell_type": "markdown",
   "metadata": {},
   "source": [
    "### 37. Write a Python program to train an SVM Classifier using Linear, Polynomial, and RBF kernels on the Breast Cancer dataset and compare their accuracy."
   ]
  },
  {
   "cell_type": "code",
   "execution_count": 61,
   "metadata": {},
   "outputs": [
    {
     "name": "stdout",
     "output_type": "stream",
     "text": [
      "Accuracy with LINEAR kernel: 0.9766\n",
      "Accuracy with POLY kernel: 0.8947\n",
      "Accuracy with RBF kernel: 0.9708\n"
     ]
    }
   ],
   "source": [
    "from sklearn.datasets import load_breast_cancer\n",
    "from sklearn.model_selection import train_test_split\n",
    "from sklearn.preprocessing import StandardScaler\n",
    "from sklearn.svm import SVC\n",
    "from sklearn.metrics import accuracy_score\n",
    "\n",
    "cancer = load_breast_cancer()\n",
    "X, y = cancer.data, cancer.target\n",
    "\n",
    "scaler = StandardScaler()\n",
    "X_scaled = scaler.fit_transform(X)\n",
    "\n",
    "X_train, X_test, y_train, y_test = train_test_split(X_scaled, y, test_size=0.3, random_state=42)\n",
    "\n",
    "kernels = ['linear', 'poly', 'rbf']\n",
    "for kernel in kernels:\n",
    "    svm = SVC(kernel=kernel, random_state=42).fit(X_train, y_train)\n",
    "    acc = accuracy_score(y_test, svm.predict(X_test))\n",
    "    print(f\"Accuracy with {kernel.upper()} kernel: {acc:.4f}\")"
   ]
  },
  {
   "cell_type": "markdown",
   "metadata": {},
   "source": [
    "### 38. Write a Python program to train an SVM Classifier using Stratified K-Fold Cross-Validation and compute the average accuracy."
   ]
  },
  {
   "cell_type": "code",
   "execution_count": 59,
   "metadata": {},
   "outputs": [
    {
     "name": "stdout",
     "output_type": "stream",
     "text": [
      "Cross-validation scores: [1.         0.96666667 0.9        1.         0.9       ]\n",
      "Average accuracy: 0.9533 (+/- 0.0452)\n"
     ]
    }
   ],
   "source": [
    "from sklearn.datasets import load_iris\n",
    "from sklearn.model_selection import StratifiedKFold, cross_val_score\n",
    "from sklearn.preprocessing import StandardScaler\n",
    "from sklearn.svm import SVC\n",
    "import numpy as np\n",
    "\n",
    "iris = load_iris()\n",
    "X, y = iris.data, iris.target\n",
    "\n",
    "scaler = StandardScaler()\n",
    "X_scaled = scaler.fit_transform(X)\n",
    "\n",
    "svm = SVC(kernel='rbf', random_state=42)\n",
    "\n",
    "# Create StratifiedKFold object\n",
    "skf = StratifiedKFold(n_splits=5, shuffle=True, random_state=42)\n",
    "\n",
    "# Perform cross-validation\n",
    "scores = cross_val_score(svm, X_scaled, y, cv=skf, scoring='accuracy')\n",
    "\n",
    "print(f\"Cross-validation scores: {scores}\")\n",
    "print(f\"Average accuracy: {np.mean(scores):.4f} (+/- {np.std(scores):.4f})\")"
   ]
  },
  {
   "cell_type": "markdown",
   "metadata": {},
   "source": [
    "### 39. Write a Python program to train a Naïve Bayes classifier using different prior probabilities and compare performance."
   ]
  },
  {
   "cell_type": "code",
   "execution_count": 57,
   "metadata": {},
   "outputs": [
    {
     "name": "stdout",
     "output_type": "stream",
     "text": [
      "Accuracy with learned priors: 0.8267\n",
      "Learned priors: [0.52285714 0.47714286]\n",
      "\n",
      "Accuracy with custom priors [0.8, 0.2]: 0.8067\n"
     ]
    }
   ],
   "source": [
    "from sklearn.datasets import make_classification\n",
    "from sklearn.model_selection import train_test_split\n",
    "from sklearn.naive_bayes import GaussianNB\n",
    "from sklearn.metrics import accuracy_score\n",
    "\n",
    "X, y = make_classification(n_samples=1000, n_features=10, n_classes=2, weights=[0.5, 0.5], random_state=42)\n",
    "X_train, X_test, y_train, y_test = train_test_split(X, y, test_size=0.3, random_state=42)\n",
    "\n",
    "# 1. NB with learned priors\n",
    "gnb_learned = GaussianNB(priors=None).fit(X_train, y_train)\n",
    "acc_learned = accuracy_score(y_test, gnb_learned.predict(X_test))\n",
    "print(f\"Accuracy with learned priors: {acc_learned:.4f}\")\n",
    "print(f\"Learned priors: {gnb_learned.class_prior_}\\n\")\n",
    "\n",
    "# 2. NB with custom priors (e.g., assuming class 0 is more likely)\n",
    "gnb_custom = GaussianNB(priors=[0.8, 0.2]).fit(X_train, y_train)\n",
    "acc_custom = accuracy_score(y_test, gnb_custom.predict(X_test))\n",
    "print(f\"Accuracy with custom priors [0.8, 0.2]: {acc_custom:.4f}\")"
   ]
  },
  {
   "cell_type": "markdown",
   "metadata": {},
   "source": [
    "### 40. Write a Python program to perform Recursive Feature Elimination (RFE) before training an SVM Classifier and compare accuracy."
   ]
  },
  {
   "cell_type": "code",
   "execution_count": 55,
   "metadata": {},
   "outputs": [
    {
     "name": "stdout",
     "output_type": "stream",
     "text": [
      "Accuracy with all 25 features: 0.8467\n",
      "Accuracy with RFE (5 features): 0.8467\n"
     ]
    }
   ],
   "source": [
    "from sklearn.datasets import make_classification\n",
    "from sklearn.model_selection import train_test_split\n",
    "from sklearn.feature_selection import RFE\n",
    "from sklearn.svm import SVC\n",
    "from sklearn.metrics import accuracy_score\n",
    "\n",
    "X, y = make_classification(n_samples=500, n_features=25, n_informative=5, n_redundant=15, random_state=42)\n",
    "X_train, X_test, y_train, y_test = train_test_split(X, y, test_size=0.3, random_state=42)\n",
    "\n",
    "# 1. SVM with all features\n",
    "svm_all = SVC(kernel='linear').fit(X_train, y_train)\n",
    "acc_all = accuracy_score(y_test, svm_all.predict(X_test))\n",
    "print(f\"Accuracy with all 25 features: {acc_all:.4f}\")\n",
    "\n",
    "# 2. Use RFE to select top 5 features\n",
    "estimator = SVC(kernel=\"linear\")\n",
    "selector = RFE(estimator, n_features_to_select=5, step=1)\n",
    "selector = selector.fit(X_train, y_train)\n",
    "\n",
    "# 3. SVM with RFE-selected features\n",
    "X_train_rfe = selector.transform(X_train)\n",
    "X_test_rfe = selector.transform(X_test)\n",
    "svm_rfe = SVC(kernel='linear').fit(X_train_rfe, y_train)\n",
    "acc_rfe = accuracy_score(y_test, svm_rfe.predict(X_test_rfe))\n",
    "print(f\"Accuracy with RFE (5 features): {acc_rfe:.4f}\")"
   ]
  },
  {
   "cell_type": "markdown",
   "metadata": {},
   "source": [
    "### 41. Write a Python program to train an SVM Classifier and evaluate its performance using Precision, Recall, and F1-Score instead of accuracy."
   ]
  },
  {
   "cell_type": "code",
   "execution_count": 53,
   "metadata": {},
   "outputs": [
    {
     "name": "stdout",
     "output_type": "stream",
     "text": [
      "SVM Performance Report:\n",
      "              precision    recall  f1-score   support\n",
      "\n",
      "   malignant       0.95      0.97      0.96        63\n",
      "      benign       0.98      0.97      0.98       108\n",
      "\n",
      "    accuracy                           0.97       171\n",
      "   macro avg       0.97      0.97      0.97       171\n",
      "weighted avg       0.97      0.97      0.97       171\n",
      "\n"
     ]
    }
   ],
   "source": [
    "from sklearn.datasets import load_breast_cancer\n",
    "from sklearn.model_selection import train_test_split\n",
    "from sklearn.svm import SVC\n",
    "from sklearn.metrics import classification_report\n",
    "from sklearn.preprocessing import StandardScaler\n",
    "\n",
    "cancer = load_breast_cancer()\n",
    "X, y = cancer.data, cancer.target\n",
    "scaler = StandardScaler()\n",
    "X_scaled = scaler.fit_transform(X)\n",
    "X_train, X_test, y_train, y_test = train_test_split(X_scaled, y, test_size=0.3, random_state=42)\n",
    "\n",
    "svm_model = SVC(kernel='rbf', random_state=42)\n",
    "svm_model.fit(X_train, y_train)\n",
    "\n",
    "y_pred = svm_model.predict(X_test)\n",
    "\n",
    "report = classification_report(y_test, y_pred, target_names=cancer.target_names)\n",
    "print(\"SVM Performance Report:\")\n",
    "print(report)"
   ]
  },
  {
   "cell_type": "markdown",
   "metadata": {},
   "source": [
    "### 42. Write a Python program to train a Naïve Bayes Classifier and evaluate its performance using Log Loss (Cross-Entropy Loss)."
   ]
  },
  {
   "cell_type": "code",
   "execution_count": 51,
   "metadata": {},
   "outputs": [
    {
     "name": "stdout",
     "output_type": "stream",
     "text": [
      "Naive Bayes Log Loss: 0.0490\n"
     ]
    }
   ],
   "source": [
    "from sklearn.datasets import load_iris\n",
    "from sklearn.model_selection import train_test_split\n",
    "from sklearn.naive_bayes import GaussianNB\n",
    "from sklearn.metrics import log_loss\n",
    "\n",
    "iris = load_iris()\n",
    "X, y = iris.data, iris.target\n",
    "X_train, X_test, y_train, y_test = train_test_split(X, y, test_size=0.3, random_state=42)\n",
    "\n",
    "gnb = GaussianNB()\n",
    "gnb.fit(X_train, y_train)\n",
    "\n",
    "# Predict probabilities\n",
    "y_pred_proba = gnb.predict_proba(X_test)\n",
    "\n",
    "# Calculate Log Loss\n",
    "loss = log_loss(y_test, y_pred_proba)\n",
    "print(f\"Naive Bayes Log Loss: {loss:.4f}\")"
   ]
  },
  {
   "cell_type": "markdown",
   "metadata": {},
   "source": [
    "### 43. Write a Python program to train an SVM Classifier and visualize the Confusion Matrix using seaborn."
   ]
  },
  {
   "cell_type": "code",
   "execution_count": 48,
   "metadata": {},
   "outputs": [
    {
     "data": {
      "image/png": "[encoded data removed]",
      "text/plain": [
       "<Figure size 800x600 with 2 Axes>"
      ]
     },
     "metadata": {},
     "output_type": "display_data"
    }
   ],
   "source": [
    "import matplotlib.pyplot as plt\n",
    "import seaborn as sns\n",
    "from sklearn.datasets import load_breast_cancer\n",
    "from sklearn.model_selection import train_test_split\n",
    "from sklearn.svm import SVC\n",
    "from sklearn.metrics import confusion_matrix\n",
    "from sklearn.preprocessing import StandardScaler\n",
    "\n",
    "cancer = load_breast_cancer()\n",
    "X, y = cancer.data, cancer.target\n",
    "scaler = StandardScaler()\n",
    "X_scaled = scaler.fit_transform(X)\n",
    "X_train, X_test, y_train, y_test = train_test_split(X_scaled, y, test_size=0.3, random_state=42)\n",
    "\n",
    "svm_model = SVC(kernel='rbf', random_state=42)\n",
    "svm_model.fit(X_train, y_train)\n",
    "\n",
    "y_pred = svm_model.predict(X_test)\n",
    "\n",
    "cm = confusion_matrix(y_test, y_pred)\n",
    "\n",
    "plt.figure(figsize=(8, 6))\n",
    "sns.heatmap(cm, annot=True, fmt='d', cmap='Blues', \n",
    "            xticklabels=cancer.target_names, yticklabels=cancer.target_names)\n",
    "plt.title('Confusion Matrix for SVM Classifier')\n",
    "plt.ylabel('Actual Label')\n",
    "plt.xlabel('Predicted Label')\n",
    "plt.show()"
   ]
  },
  {
   "cell_type": "markdown",
   "metadata": {},
   "source": [
    "### 44. Write a Python program to train an SVM Regressor (SVR) and evaluate its performance using Mean Absolute Error (MAE) instead of MSE."
   ]
  },
  {
   "cell_type": "code",
   "execution_count": 45,
   "metadata": {},
   "outputs": [
    {
     "name": "stdout",
     "output_type": "stream",
     "text": [
      "SVR Mean Absolute Error (MAE): 0.3963\n"
     ]
    }
   ],
   "source": [
    "from sklearn.datasets import fetch_california_housing\n",
    "from sklearn.model_selection import train_test_split\n",
    "from sklearn.svm import SVR\n",
    "from sklearn.metrics import mean_absolute_error\n",
    "from sklearn.preprocessing import StandardScaler\n",
    "\n",
    "housing = fetch_california_housing()\n",
    "X, y = housing.data, housing.target\n",
    "\n",
    "scaler = StandardScaler()\n",
    "X_scaled = scaler.fit_transform(X)\n",
    "\n",
    "X_train, X_test, y_train, y_test = train_test_split(X_scaled, y, test_size=0.3, random_state=42)\n",
    "\n",
    "svr = SVR(kernel='rbf')\n",
    "svr.fit(X_train, y_train)\n",
    "\n",
    "y_pred = svr.predict(X_test)\n",
    "\n",
    "mae = mean_absolute_error(y_test, y_pred)\n",
    "print(f\"SVR Mean Absolute Error (MAE): {mae:.4f}\")"
   ]
  },
  {
   "cell_type": "markdown",
   "metadata": {},
   "source": [
    "### 45. Write a Python program to train a Naïve Bayes classifier and evaluate its performance using the ROC-AUC score."
   ]
  },
  {
   "cell_type": "code",
   "execution_count": 43,
   "metadata": {},
   "outputs": [
    {
     "name": "stdout",
     "output_type": "stream",
     "text": [
      "ROC-AUC Score for Naïve Bayes: 0.9922\n"
     ]
    },
    {
     "data": {
      "image/png": "[encoded data removed]",
      "text/plain": [
       "<Figure size 800x600 with 1 Axes>"
      ]
     },
     "metadata": {},
     "output_type": "display_data"
    }
   ],
   "source": [
    "import matplotlib.pyplot as plt\n",
    "from sklearn.datasets import load_breast_cancer\n",
    "from sklearn.model_selection import train_test_split\n",
    "from sklearn.naive_bayes import GaussianNB\n",
    "from sklearn.metrics import roc_auc_score, roc_curve\n",
    "\n",
    "cancer = load_breast_cancer()\n",
    "X, y = cancer.data, cancer.target\n",
    "\n",
    "X_train, X_test, y_train, y_test = train_test_split(X, y, test_size=0.3, random_state=42)\n",
    "\n",
    "gnb = GaussianNB()\n",
    "gnb.fit(X_train, y_train)\n",
    "\n",
    "y_pred_proba = gnb.predict_proba(X_test)[:, 1]\n",
    "\n",
    "roc_auc = roc_auc_score(y_test, y_pred_proba)\n",
    "print(f\"ROC-AUC Score for Naïve Bayes: {roc_auc:.4f}\")\n",
    "\n",
    "fpr, tpr, _ = roc_curve(y_test, y_pred_proba)\n",
    "plt.figure(figsize=(8, 6))\n",
    "plt.plot(fpr, tpr, color='darkorange', lw=2, label=f'ROC curve (area = {roc_auc:.2f})')\n",
    "plt.plot([0, 1], [0, 1], color='navy', lw=2, linestyle='--')\n",
    "plt.xlim([0.0, 1.0])\n",
    "plt.ylim([0.0, 1.05])\n",
    "plt.xlabel('False Positive Rate')\n",
    "plt.ylabel('True Positive Rate')\n",
    "plt.title('Receiver Operating Characteristic (ROC) Curve')\n",
    "plt.legend(loc=\"lower right\")\n",
    "plt.show()"
   ]
  },
  {
   "cell_type": "markdown",
   "metadata": {},
   "source": [
    "### 46. Write a Python program to train an SVM Classifier and visualize the Precision-Recall Curve."
   ]
  },
  {
   "cell_type": "code",
   "execution_count": 41,
   "metadata": {},
   "outputs": [
    {
     "data": {
      "image/png": "[encoded data removed]",
      "text/plain": [
       "<Figure size 800x600 with 1 Axes>"
      ]
     },
     "metadata": {},
     "output_type": "display_data"
    }
   ],
   "source": [
    "import matplotlib.pyplot as plt\n",
    "from sklearn.datasets import make_classification\n",
    "from sklearn.model_selection import train_test_split\n",
    "from sklearn.svm import SVC\n",
    "from sklearn.metrics import precision_recall_curve, auc\n",
    "\n",
    "X, y = make_classification(n_samples=1000, n_classes=2, weights=[0.9, 0.1], random_state=42)\n",
    "\n",
    "X_train, X_test, y_train, y_test = train_test_split(X, y, test_size=0.3, random_state=42)\n",
    "\n",
    "# We need a classifier that can provide decision scores or probabilities\n",
    "svm = SVC(kernel='linear', probability=True, random_state=42)\n",
    "svm.fit(X_train, y_train)\n",
    "\n",
    "# Get probabilities for the positive class\n",
    "y_scores = svm.predict_proba(X_test)[:, 1]\n",
    "\n",
    "# Calculate precision-recall curve\n",
    "precision, recall, _ = precision_recall_curve(y_test, y_scores)\n",
    "pr_auc = auc(recall, precision)\n",
    "\n",
    "# Plot the curve\n",
    "plt.figure(figsize=(8, 6))\n",
    "plt.plot(recall, precision, lw=2, color='navy', label=f'Precision-Recall curve (area = {pr_auc:.2f})')\n",
    "plt.xlabel('Recall')\n",
    "plt.ylabel('Precision')\n",
    "plt.title('SVM Precision-Recall Curve')\n",
    "plt.legend(loc='lower left')\n",
    "plt.grid(True)\n",
    "plt.show()"
   ]
  }
 ],
 "metadata": {
  "kernelspec": {
   "display_name": "Python [conda env:base] *",
   "language": "python",
   "name": "conda-base-py"
  },
  "language_info": {
   "codemirror_mode": {
    "name": "ipython",
    "version": 3
   },
   "file_extension": ".py",
   "mimetype": "text/x-python",
   "name": "python",
   "nbconvert_exporter": "python",
   "pygments_lexer": "ipython3",
   "version": "3.12.7"
  }
 },
 "nbformat": 4,
 "nbformat_minor": 4
}
